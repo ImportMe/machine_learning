{
 "cells": [
  {
   "cell_type": "markdown",
   "metadata": {},
   "source": [
    "- https://nlp.stanford.edu/projects/glove/\n",
    "- https://github.com/maciejkula/glove-python"
   ]
  },
  {
   "cell_type": "code",
   "execution_count": 38,
   "metadata": {},
   "outputs": [],
   "source": [
    "def visualization(model, size=50):\n",
    "    from sklearn.decomposition.pca import PCA\n",
    "    import matplotlib.pyplot as plt\n",
    "    %matplotlib inline\n",
    "    \n",
    "    # 支持中文\n",
    "    plt.rcParams['font.sans-serif'] = ['SimHei']  # 用来正常显示中文标签\n",
    "    plt.rcParams['axes.unicode_minus'] = False  # 用来正常显示负号\n",
    "    \n",
    "    vocab = model.word_vectors[:size]\n",
    "    X = vocab\n",
    "    pca = PCA(n_components=2)\n",
    "    result = pca.fit_transform(X)\n",
    "    plt.scatter(result[:, 0], result[:, 1])\n",
    "        \n",
    "    idx2word = {i:x for x,i in model.dictionary.items()}\n",
    "    for i, word in enumerate(vocab):\n",
    "        plt.annotate(idx2word.get(i,'UNK'), xy=(result[i, 0], result[i, 1]))\n",
    "    plt.show()"
   ]
  },
  {
   "cell_type": "markdown",
   "metadata": {},
   "source": [
    "### 1.Use word2vec to load glove embeddings"
   ]
  },
  {
   "cell_type": "code",
   "execution_count": null,
   "metadata": {},
   "outputs": [],
   "source": [
    "import gensim\n",
    "from gensim.scripts.glove2word2vec import glove2word2vec\n",
    "\n",
    "glove_file = '../../../词向量Embedding/glove.6B/glove.6B.100d.txt'\n",
    "word2vec_file = 'word2vec_embedding.txt'\n",
    "count, dimensions = glove2word2vec(glove_file, word2vec_file)\n",
    "model = gensim.models.KeyedVectors.load_word2vec_format(word2vec_file)\n",
    "print(count, dimensions)"
   ]
  },
  {
   "cell_type": "markdown",
   "metadata": {},
   "source": [
    "### 2. Use glove-python load glove embeddings"
   ]
  },
  {
   "cell_type": "code",
   "execution_count": 9,
   "metadata": {},
   "outputs": [
    {
     "name": "stdout",
     "output_type": "stream",
     "text": [
      "Performing 30 training epochs with 4 threads\n",
      "Epoch 0\n",
      "Epoch 1\n",
      "Epoch 2\n",
      "Epoch 3\n",
      "Epoch 4\n",
      "Epoch 5\n",
      "Epoch 6\n",
      "Epoch 7\n",
      "Epoch 8\n",
      "Epoch 9\n",
      "Epoch 10\n",
      "Epoch 11\n",
      "Epoch 12\n",
      "Epoch 13\n",
      "Epoch 14\n",
      "Epoch 15\n",
      "Epoch 16\n",
      "Epoch 17\n",
      "Epoch 18\n",
      "Epoch 19\n",
      "Epoch 20\n",
      "Epoch 21\n",
      "Epoch 22\n",
      "Epoch 23\n",
      "Epoch 24\n",
      "Epoch 25\n",
      "Epoch 26\n",
      "Epoch 27\n",
      "Epoch 28\n",
      "Epoch 29\n"
     ]
    }
   ],
   "source": [
    "from glove import Corpus, Glove\n",
    "sentences = [\"Human machine interface for lab abc computer applications\",\n",
    "            \"A survey of user opinion of computer system response time\",\n",
    "            \"The EPS user interface management system\",\n",
    "            \"System and human system engineering testing of EPS\",\n",
    "            \"Relation of user perceived response time to error measurement\",\n",
    "            \"The generation of random binary unordered trees\",\n",
    "            \"The intersection graph of paths in trees\",\n",
    "            \"Graph minors IV Widths of trees and well quasi ordering\",\n",
    "            \"Graph minors A survey\"]\n",
    "\n",
    "sentences= [s.split() for s in sentences]\n",
    "\n",
    "corpus = Corpus()\n",
    "corpus.fit(sentences, window=10)\n",
    "\n",
    "model = Glove(no_components=100, learning_rate=0.05)\n",
    "model.fit(corpus.matrix, epochs=30, no_threads=4, verbose=True)\n",
    "model.add_dictionary(corpus.dictionary)"
   ]
  },
  {
   "cell_type": "code",
   "execution_count": 13,
   "metadata": {},
   "outputs": [
    {
     "data": {
      "text/plain": [
       "[('interface', 0.39430042742115695),\n",
       " ('user', 0.1617742035655887),\n",
       " ('opinion', 0.13556067971562907),\n",
       " ('Graph', 0.12990375485123454),\n",
       " ('survey', 0.11098054741396074),\n",
       " ('System', 0.09537976710507416),\n",
       " ('binary', 0.08812961786481666),\n",
       " ('IV', 0.07910903597565257),\n",
       " ('management', 0.07483301495509694)]"
      ]
     },
     "execution_count": 13,
     "metadata": {},
     "output_type": "execute_result"
    }
   ],
   "source": [
    "model.most_similar('machine',number=10)"
   ]
  },
  {
   "cell_type": "code",
   "execution_count": 22,
   "metadata": {
    "scrolled": true
   },
   "outputs": [
    {
     "data": {
      "text/plain": [
       "{'Human': 0,\n",
       " 'machine': 1,\n",
       " 'interface': 2,\n",
       " 'for': 3,\n",
       " 'lab': 4,\n",
       " 'abc': 5,\n",
       " 'computer': 6,\n",
       " 'applications': 7,\n",
       " 'A': 8,\n",
       " 'survey': 9,\n",
       " 'of': 10,\n",
       " 'user': 11,\n",
       " 'opinion': 12,\n",
       " 'system': 13,\n",
       " 'response': 14,\n",
       " 'time': 15,\n",
       " 'The': 16,\n",
       " 'EPS': 17,\n",
       " 'management': 18,\n",
       " 'System': 19,\n",
       " 'and': 20,\n",
       " 'human': 21,\n",
       " 'engineering': 22,\n",
       " 'testing': 23,\n",
       " 'Relation': 24,\n",
       " 'perceived': 25,\n",
       " 'to': 26,\n",
       " 'error': 27,\n",
       " 'measurement': 28,\n",
       " 'generation': 29,\n",
       " 'random': 30,\n",
       " 'binary': 31,\n",
       " 'unordered': 32,\n",
       " 'trees': 33,\n",
       " 'intersection': 34,\n",
       " 'graph': 35,\n",
       " 'paths': 36,\n",
       " 'in': 37,\n",
       " 'Graph': 38,\n",
       " 'minors': 39,\n",
       " 'IV': 40,\n",
       " 'Widths': 41,\n",
       " 'well': 42,\n",
       " 'quasi': 43,\n",
       " 'ordering': 44}"
      ]
     },
     "execution_count": 22,
     "metadata": {},
     "output_type": "execute_result"
    }
   ],
   "source": [
    "model.dictionary"
   ]
  },
  {
   "cell_type": "code",
   "execution_count": 23,
   "metadata": {},
   "outputs": [
    {
     "data": {
      "text/plain": [
       "(45, 100)"
      ]
     },
     "execution_count": 23,
     "metadata": {},
     "output_type": "execute_result"
    }
   ],
   "source": [
    "model.word_vectors.shape"
   ]
  },
  {
   "cell_type": "code",
   "execution_count": 41,
   "metadata": {},
   "outputs": [
    {
     "data": {
      "image/png": "[encoded data removed]",
      "text/plain": [
       "<Figure size 432x288 with 1 Axes>"
      ]
     },
     "metadata": {},
     "output_type": "display_data"
    }
   ],
   "source": [
    "visualization(model,size=30)"
   ]
  },
  {
   "cell_type": "code",
   "execution_count": null,
   "metadata": {},
   "outputs": [],
   "source": []
  }
 ],
 "metadata": {
  "kernelspec": {
   "display_name": "Python 3",
   "language": "python",
   "name": "python3"
  },
  "language_info": {
   "codemirror_mode": {
    "name": "ipython",
    "version": 3
   },
   "file_extension": ".py",
   "mimetype": "text/x-python",
   "name": "python",
   "nbconvert_exporter": "python",
   "pygments_lexer": "ipython3",
   "version": "3.6.5"
  }
 },
 "nbformat": 4,
 "nbformat_minor": 2
}
